{
 "cells": [
  {
   "cell_type": "markdown",
   "id": "6405cc2c-a768-465d-9204-87d371eb760b",
   "metadata": {},
   "source": [
    "Q1. Create one variable containing following type of data:\n",
    "(i) string\n",
    "(ii) list\n",
    "(iii) float\n",
    "(iv) tuple"
   ]
  },
  {
   "cell_type": "code",
   "execution_count": 2,
   "id": "a5a1a5c9-47b1-450c-87c7-1428dbb9aa97",
   "metadata": {},
   "outputs": [],
   "source": [
    "#string\n",
    "a = \"harshitha\""
   ]
  },
  {
   "cell_type": "code",
   "execution_count": 4,
   "id": "7e4ccf65-2e63-4cb7-8d1d-c6df506cf44d",
   "metadata": {},
   "outputs": [
    {
     "data": {
      "text/plain": [
       "str"
      ]
     },
     "execution_count": 4,
     "metadata": {},
     "output_type": "execute_result"
    }
   ],
   "source": [
    "type(a)"
   ]
  },
  {
   "cell_type": "code",
   "execution_count": 5,
   "id": "3147f454-bbaf-4c4c-8392-a9a5dab589c3",
   "metadata": {},
   "outputs": [],
   "source": [
    "#list\n",
    "l = [22,33,44,'you',\"us\",55,6+6j]"
   ]
  },
  {
   "cell_type": "code",
   "execution_count": 12,
   "id": "95b54818-ced1-4a6e-a231-1973fc459423",
   "metadata": {},
   "outputs": [
    {
     "data": {
      "text/plain": [
       "list"
      ]
     },
     "execution_count": 12,
     "metadata": {},
     "output_type": "execute_result"
    }
   ],
   "source": [
    "type(l)"
   ]
  },
  {
   "cell_type": "code",
   "execution_count": 7,
   "id": "721d4f7e-51ff-46e6-b39a-131e6317eb32",
   "metadata": {},
   "outputs": [],
   "source": [
    "#float\n",
    "f = 4.567"
   ]
  },
  {
   "cell_type": "code",
   "execution_count": 8,
   "id": "e010557b-2083-4f49-ab7b-823f0c0707f3",
   "metadata": {},
   "outputs": [
    {
     "data": {
      "text/plain": [
       "float"
      ]
     },
     "execution_count": 8,
     "metadata": {},
     "output_type": "execute_result"
    }
   ],
   "source": [
    "type(f)"
   ]
  },
  {
   "cell_type": "code",
   "execution_count": 9,
   "id": "6d473ad5-7603-4656-90f3-f12ebd8fb20e",
   "metadata": {},
   "outputs": [],
   "source": [
    "z = (2,3,4,(234,567),\"har\")"
   ]
  },
  {
   "cell_type": "code",
   "execution_count": 10,
   "id": "4b0c9f5c-aa19-4dbc-84c1-86ea01dfa3ad",
   "metadata": {},
   "outputs": [
    {
     "data": {
      "text/plain": [
       "tuple"
      ]
     },
     "execution_count": 10,
     "metadata": {},
     "output_type": "execute_result"
    }
   ],
   "source": [
    "type(z)"
   ]
  },
  {
   "cell_type": "markdown",
   "id": "e3fef78c-1d1b-43d9-9ced-d12f20ee273a",
   "metadata": {},
   "source": [
    "Q2. Given are some following variables containing data:\n",
    "(i) var1 = ‘ ‘\n",
    "(ii) var2 = ‘[ DS , ML , Python]’\n",
    "(iii) var3 = [ ‘DS’ , ’ML’ , ‘Python’ ]\n",
    "(iv) var4 = 1."
   ]
  },
  {
   "cell_type": "markdown",
   "id": "bfaf8ee1-207e-45fb-a557-71a7e25c4a6c",
   "metadata": {},
   "source": [
    "1.stn\n",
    "2.\n",
    "3.list\n",
    "4.float"
   ]
  },
  {
   "cell_type": "markdown",
   "id": "8917204b-0d25-4238-887f-4cb66304e75e",
   "metadata": {},
   "source": [
    "Q3. Explain the use of the following operators using an example:\n",
    "(i) /\n",
    "(ii) %\n",
    "(iii) //\n",
    "(iv) **"
   ]
  },
  {
   "cell_type": "code",
   "execution_count": 11,
   "id": "6d3613b9-a3de-47bf-bd75-f7cc23237a17",
   "metadata": {},
   "outputs": [],
   "source": [
    "# using /,%,//,**\n",
    "a=10\n",
    "b=20"
   ]
  },
  {
   "cell_type": "code",
   "execution_count": 13,
   "id": "34aee9b4-4bb5-4fc9-ae84-5f65472ebd15",
   "metadata": {},
   "outputs": [
    {
     "data": {
      "text/plain": [
       "0.5"
      ]
     },
     "execution_count": 13,
     "metadata": {},
     "output_type": "execute_result"
    }
   ],
   "source": [
    "#this gives queotient \n",
    "a/b"
   ]
  },
  {
   "cell_type": "code",
   "execution_count": 14,
   "id": "8ba3f876-be56-43e2-9d25-53051d17568d",
   "metadata": {},
   "outputs": [
    {
     "data": {
      "text/plain": [
       "10"
      ]
     },
     "execution_count": 14,
     "metadata": {},
     "output_type": "execute_result"
    }
   ],
   "source": [
    "#gives remainder\n",
    "a%b"
   ]
  },
  {
   "cell_type": "code",
   "execution_count": 15,
   "id": "41c9bc4f-f7d9-4b52-b5e7-508d04491bb2",
   "metadata": {},
   "outputs": [
    {
     "data": {
      "text/plain": [
       "0"
      ]
     },
     "execution_count": 15,
     "metadata": {},
     "output_type": "execute_result"
    }
   ],
   "source": [
    "#used for floor division\n",
    "a//b"
   ]
  },
  {
   "cell_type": "code",
   "execution_count": 16,
   "id": "4e15466a-880b-4810-9a30-d8e82ce816ca",
   "metadata": {},
   "outputs": [
    {
     "data": {
      "text/plain": [
       "100000000000000000000"
      ]
     },
     "execution_count": 16,
     "metadata": {},
     "output_type": "execute_result"
    }
   ],
   "source": [
    "#** means power\n",
    "a**b"
   ]
  },
  {
   "cell_type": "markdown",
   "id": "55f9f229-de33-4f1d-94ab-9c02af399909",
   "metadata": {},
   "source": [
    "Q4. Create a list of length 10 of your choice containing multiple types of data. Using for loop print the\n",
    "element and its data type."
   ]
  },
  {
   "cell_type": "code",
   "execution_count": 17,
   "id": "10c29278-e0da-4ebd-83b0-fb0a3e3aa118",
   "metadata": {},
   "outputs": [
    {
     "name": "stdout",
     "output_type": "stream",
     "text": [
      "1\n",
      "2\n",
      "3\n",
      "4\n",
      "5\n",
      "harshi\n",
      "(5+6j)\n",
      "har\n",
      "9\n",
      "10\n"
     ]
    }
   ],
   "source": [
    "l = [1,2,3,4,5,\"harshi\",5+6j,'har',9,10]\n",
    "for i in l:\n",
    "    print(i)"
   ]
  },
  {
   "cell_type": "markdown",
   "id": "8391cb4f-7267-4cf0-9f26-8f8e655fbba0",
   "metadata": {},
   "source": [
    "Q6. Create a list containing 25 int type data. Using for loop and if-else condition print if the element is\n",
    "divisible by 3 or not."
   ]
  },
  {
   "cell_type": "code",
   "execution_count": 31,
   "id": "d5226b8b-186b-4ba4-93a1-0687c20d8914",
   "metadata": {},
   "outputs": [
    {
     "name": "stdout",
     "output_type": "stream",
     "text": [
      "1\n",
      "it is not divisible\n",
      "2\n",
      "it is not divisible\n",
      "3\n",
      "it is divisible\n",
      "4\n",
      "it is not divisible\n",
      "5\n",
      "it is not divisible\n",
      "6\n",
      "it is divisible\n",
      "7\n",
      "it is not divisible\n",
      "8\n",
      "it is not divisible\n",
      "9\n",
      "it is divisible\n",
      "10\n",
      "it is not divisible\n",
      "11\n",
      "it is not divisible\n",
      "12\n",
      "it is divisible\n",
      "13\n",
      "it is not divisible\n",
      "33\n",
      "it is divisible\n",
      "66\n",
      "it is divisible\n",
      "99\n",
      "it is divisible\n",
      "333\n",
      "it is divisible\n",
      "33333\n",
      "it is divisible\n",
      "23\n",
      "it is not divisible\n",
      "31\n",
      "it is not divisible\n",
      "69\n",
      "it is divisible\n",
      "999\n",
      "it is divisible\n",
      "12\n",
      "it is divisible\n",
      "34\n",
      "it is not divisible\n",
      "56\n",
      "it is not divisible\n"
     ]
    }
   ],
   "source": [
    "l = [1,2,3,4,5,6,7,8,9,10,11,12,13,33,66,99,333,33333,23,31,69,999,12,34,56]\n",
    "for i in l:\n",
    "    print(i)\n",
    "    if i%3==0 :\n",
    "        print(\"it is divisible\" )\n",
    "    else :\n",
    "        print(\"it is not divisible\")"
   ]
  },
  {
   "cell_type": "markdown",
   "id": "049c7ebf-13f7-4ba1-abfb-854115da3eb9",
   "metadata": {},
   "source": [
    "Q7. What do you understand about mutable and immutable data types? Give examples for both showing\n",
    "this property."
   ]
  },
  {
   "cell_type": "code",
   "execution_count": 37,
   "id": "a5af3309-e227-4cc4-84c7-a6ebf71306a6",
   "metadata": {},
   "outputs": [
    {
     "ename": "NameError",
     "evalue": "name 'harshi' is not defined",
     "output_type": "error",
     "traceback": [
      "\u001b[0;31m---------------------------------------------------------------------------\u001b[0m",
      "\u001b[0;31mNameError\u001b[0m                                 Traceback (most recent call last)",
      "Cell \u001b[0;32mIn[37], line 2\u001b[0m\n\u001b[1;32m      1\u001b[0m \u001b[38;5;66;03m#immutability..the variables caunt be replaced\u001b[39;00m\n\u001b[0;32m----> 2\u001b[0m a\u001b[38;5;241m=\u001b[39m\u001b[43mharshi\u001b[49m\n\u001b[1;32m      3\u001b[0m a[\u001b[38;5;241m3\u001b[39m]\u001b[38;5;241m=\u001b[39m\u001b[38;5;241m444\u001b[39m\n",
      "\u001b[0;31mNameError\u001b[0m: name 'harshi' is not defined"
     ]
    }
   ],
   "source": [
    "#immutability..the variables caunt be replaced\n",
    "a=harshi\n",
    "a[3]=444"
   ]
  },
  {
   "cell_type": "code",
   "execution_count": 54,
   "id": "6f1b2cb2-2ea9-4c8c-856c-2f4d497c3937",
   "metadata": {},
   "outputs": [
    {
     "data": {
      "text/plain": [
       "789"
      ]
     },
     "execution_count": 54,
     "metadata": {},
     "output_type": "execute_result"
    }
   ],
   "source": [
    "#mutability..where we can replace the elements in the list\n",
    "l = [123,456,\"har\",789]\n",
    "l[3]"
   ]
  },
  {
   "cell_type": "code",
   "execution_count": 63,
   "id": "8aa68c44-fad1-47cd-a27f-822450c0e323",
   "metadata": {},
   "outputs": [
    {
     "data": {
      "text/plain": [
       "'har'"
      ]
     },
     "execution_count": 63,
     "metadata": {},
     "output_type": "execute_result"
    }
   ],
   "source": [
    "#immutability..where we cannot replace the variables in the list\n",
    "l = [123,456,\"har\",789]\n",
    "l [2] "
   ]
  },
  {
   "cell_type": "code",
   "execution_count": 65,
   "id": "e362b1cf-964f-4379-867d-fc73c3815f01",
   "metadata": {},
   "outputs": [],
   "source": [
    "l[2] = 222"
   ]
  },
  {
   "cell_type": "markdown",
   "id": "1b726f97-fa23-4f17-817f-8524b1044f8a",
   "metadata": {},
   "source": [
    "Q5. Using a while loop, verify if the number A is purely divisible by number B and if so then how many\n",
    "times it can be divisible."
   ]
  },
  {
   "cell_type": "code",
   "execution_count": null,
   "id": "9b0e4705-074e-427d-b85c-d9f103a7b686",
   "metadata": {},
   "outputs": [],
   "source": [
    "a=int(input())\n",
    "b=int(input())\n",
    "c=0\n",
    "if (a/b==0:\n",
    "    while(a/b>=b and type(a/b)==int):\n",
    "        c+=1\n",
    "        a/=b\n",
    "    c\n",
    "else:\n",
    "    print(\"not divisible\")"
   ]
  },
  {
   "cell_type": "code",
   "execution_count": null,
   "id": "c6f90856-468a-4fc0-918e-5f1c14336590",
   "metadata": {},
   "outputs": [],
   "source": []
  }
 ],
 "metadata": {
  "kernelspec": {
   "display_name": "Python 3 (ipykernel)",
   "language": "python",
   "name": "python3"
  },
  "language_info": {
   "codemirror_mode": {
    "name": "ipython",
    "version": 3
   },
   "file_extension": ".py",
   "mimetype": "text/x-python",
   "name": "python",
   "nbconvert_exporter": "python",
   "pygments_lexer": "ipython3",
   "version": "3.10.8"
  }
 },
 "nbformat": 4,
 "nbformat_minor": 5
}
